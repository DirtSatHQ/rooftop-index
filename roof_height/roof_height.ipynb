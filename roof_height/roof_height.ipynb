{
 "cells": [
  {
   "cell_type": "code",
   "execution_count": 2,
   "metadata": {},
   "outputs": [],
   "source": [
    "import matplotlib.pyplot as plt\n",
    "import sys\n",
    "import os\n",
    "module_path = os.path.abspath(os.path.join('..', 'libs'))\n",
    "if module_path not in sys.path:\n",
    "    sys.path.append(module_path)\n",
    "from s3utils import *"
   ]
  },
  {
   "cell_type": "code",
   "execution_count": 3,
   "metadata": {},
   "outputs": [],
   "source": [
    "S3 = S3Helper('roof-index')\n",
    "s3_path = 'missoula/geospatial/'\n",
    "height = S3.read_tif_from_s3_as_rio(s3_path + 'downtown_height.tif')\n",
    "bldgs = S3.read_shp_from_s3_as_gpd(s3_path + 'downtown_bldgs.zip')\n"
   ]
  },
  {
   "cell_type": "code",
   "execution_count": null,
   "metadata": {},
   "outputs": [],
   "source": []
  }
 ],
 "metadata": {
  "language_info": {
   "name": "python",
   "nbconvert_exporter": "python"
  },
  "orig_nbformat": 4
 },
 "nbformat": 4,
 "nbformat_minor": 2
}