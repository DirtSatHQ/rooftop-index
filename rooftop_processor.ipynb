{
 "cells": [
  {
   "cell_type": "markdown",
   "source": [
    "   ## Import libraries"
   ],
   "metadata": {}
  },
  {
   "cell_type": "code",
   "execution_count": 1,
   "source": [
    "from rooftop.rooftop import RooftopProc\n",
    "from rooftop.s3utils import S3Helper"
   ],
   "outputs": [
    {
     "output_type": "stream",
     "name": "stderr",
     "text": [
      "/Users/colinbrust/projects/rooftop-index/venv/lib/python3.8/site-packages/geopandas/_compat.py:106: UserWarning: The Shapely GEOS version (3.8.0-CAPI-1.13.1 ) is incompatible with the GEOS version PyGEOS was compiled with (3.9.1-CAPI-1.14.2). Conversions between both will be slow.\n",
      "  warnings.warn(\n"
     ]
    }
   ],
   "metadata": {}
  },
  {
   "cell_type": "markdown",
   "source": [
    "   ## 1. Set variables and parameters"
   ],
   "metadata": {}
  },
  {
   "cell_type": "code",
   "execution_count": 5,
   "source": [
    "# Paths and file names\n",
    "# bucket_name = 'roof-index'\n",
    "# main_dir = 'austin/geospatial/'  # Main directory to read and write from in S3 bucket.\n",
    "# dsm_fname = 'austin_dsm.tif'\n",
    "# hfdem_fname = 'austin_dem.tif'\n",
    "# bldgs_fname = 'bldg_footprint.zip'\n",
    "# bldgs_id = 'fid'  # Name of the unique id used in the buildings shapefile \n",
    "# slope_fname = 'test_slope.tif'  # Does not exist. This is the name of the file to be written.\n",
    "# height_fname = 'test_height.tif'  # Does not exist. This is the name of the file to be written.\n",
    "# flat_area_fname = 'test_flat_area_bldgs.zip'  # Does not exist. This the name of the file to be written.\n",
    "\n",
    "# Paths and file names\n",
    "bucket_name = 'roof-index'\n",
    "main_dir = 'missoula/geospatial/'  # Main directory to read and write from in S3 bucket.\n",
    "dsm_fname = 'downtown_dsm.tif'\n",
    "hfdem_fname = 'downtown_hfdem.tif'\n",
    "bldgs_fname = 'downtown_bldgs.zip'\n",
    "bldgs_id = 'fid'  # Name of the unique id used in the buildings shapefile \n",
    "slope_fname = 'test_slope.tif'  # Does not exist. This is the name of the file to be written.\n",
    "height_fname = 'test_height.tif'  # Does not exist. This is the name of the file to be written.\n",
    "flat_area_fname = 'test_flat_area_bldgs.zip'  # Does not exist. This the name of the file to be written.\n",
    "\n",
    "# Parameters\n",
    "pitch_slope_threshold = 11  # Max. slope (degrees) to which we consider roof to be flat.\n",
    "pitch_area_threshold = 9  # Min. percentage of flat area on a roof to be classified as flat.\n",
    "fa_slope_threshold = 45  # Max. value of slope for flat area disaggregation\n",
    "fa_area_threshold = 93.903  # Min. area in m^2 for flat area disaggregation\n"
   ],
   "outputs": [],
   "metadata": {}
  },
  {
   "cell_type": "markdown",
   "source": [
    "   ## 3. Instantiate S3 and Rooftop objects"
   ],
   "metadata": {}
  },
  {
   "cell_type": "code",
   "execution_count": 6,
   "source": [
    "S3 = S3Helper(bucket_name)\n",
    "Rooftop = RooftopProc(S3, main_dir, dsm_fname, hfdem_fname, bldgs_fname, bldgs_id)"
   ],
   "outputs": [],
   "metadata": {}
  },
  {
   "cell_type": "markdown",
   "source": [
    "   ## 4. Create slope and height arrays and upload to S3 as geotiffs"
   ],
   "metadata": {}
  },
  {
   "cell_type": "code",
   "execution_count": 7,
   "source": [
    "slope_arr = Rooftop.create_slope_arr(slope_fname) \n",
    "height_arr = Rooftop.create_height_arr(height_fname)"
   ],
   "outputs": [
    {
     "output_type": "stream",
     "name": "stdout",
     "text": [
      "test_slope.tif has been successfully written to your S3 bucket.\n",
      "test_height.tif has been successfully written to your S3 bucket.\n"
     ]
    }
   ],
   "metadata": {}
  },
  {
   "cell_type": "markdown",
   "source": [
    "   ## 5. Filter out pitched roofs from bldgs dataframe"
   ],
   "metadata": {}
  },
  {
   "cell_type": "code",
   "execution_count": 8,
   "source": [
    "flat_bldgs = Rooftop.pitched_roof_filter(pitch_area_threshold, pitch_area_threshold)"
   ],
   "outputs": [
    {
     "output_type": "stream",
     "name": "stderr",
     "text": [
      "/Users/colinbrust/projects/rooftop-index/venv/lib/python3.8/site-packages/pandas/core/dtypes/cast.py:1097: UserWarning: Warning: converting a masked element to nan.\n",
      "  return arr.astype(dtype, copy=True)\n"
     ]
    }
   ],
   "metadata": {}
  },
  {
   "cell_type": "markdown",
   "source": [
    "   ## 6. Disaggregate building footprints into flat areas"
   ],
   "metadata": {}
  },
  {
   "cell_type": "code",
   "execution_count": 9,
   "source": [
    "disagg_bldgs = Rooftop.flat_area_disaggregator(flat_bldgs, fa_slope_threshold, fa_area_threshold, flat_area_fname)"
   ],
   "outputs": [
    {
     "output_type": "stream",
     "name": "stdout",
     "text": [
      "Creating polygons from raster data. Hang on, this may take a bit.\n",
      "test_flat_area_bldgs.zip has been successfully written to your S3 bucket.\n"
     ]
    }
   ],
   "metadata": {}
  },
  {
   "cell_type": "markdown",
   "source": [
    "   ## 7. Add rooftop features\n",
    " Features list below can include:\n",
    "\n",
    " - 'average_slope'\n",
    " - 'height'\n",
    " - 'parapet'\n",
    " - 'closeness_to_points'\n",
    " - 'volume_on_roof'"
   ],
   "metadata": {}
  },
  {
   "cell_type": "code",
   "execution_count": 10,
   "source": [
    "features = ['average_slope', 'height', 'parapet', 'volume_on_roof']\n",
    "ctp_paths = ['test_greenspaces.zip', 'test_groceries.zip']\n",
    "full_features = Rooftop.feature_builder(disagg_bldgs, features, ctp_paths=ctp_paths)"
   ],
   "outputs": [
    {
     "output_type": "stream",
     "name": "stdout",
     "text": [
      "Adding average slope feature now.\n",
      "Adding median height feature now.\n",
      "Adding parapet feature now.\n",
      "Adding volume on roof feature now.\n"
     ]
    }
   ],
   "metadata": {}
  },
  {
   "cell_type": "markdown",
   "source": [
    "   ## 8. Create index"
   ],
   "metadata": {}
  },
  {
   "cell_type": "code",
   "execution_count": null,
   "source": [
    "import matplotlib.pyplot as plt\n",
    "import geopandas as gpd\n",
    "\n",
    "wts = [(1/7) * 2, 1/7, (1/7) / 2, (1/7) / 2, (1/7) / 2, (1/7) / 2, (1/7) * 2]\n",
    "mcda = Rooftop.index_builder(full_features, None)\n",
    "mcda = gpd.GeoDataFrame(mcda)\n",
    "print(mcda)\n",
    "# ax = mcda.plot(column=\"vulnerability\", cmap='OrRd', legend=True, figsize=[20,20], edgecolor='k', linewidth=0.5)\n",
    "# ax.set_title('Rank')\n",
    "# ax.axis('off')\n",
    "\n",
    "# mcda.to_file('/Users/colinbrust/Desktop/austin_index.shp')"
   ],
   "outputs": [
    {
     "output_type": "stream",
     "name": "stderr",
     "text": [
      "/Users/colinbrust/projects/rooftop-index/venv/lib/python3.8/site-packages/rooftop/s3utils.py:106: UserWarning: Column names longer than 10 characters will be truncated when saved to ESRI Shapefile.\n",
      "  gdf.to_file(filename=tempdir + fname, driver='ESRI Shapefile')\n"
     ]
    },
    {
     "output_type": "stream",
     "name": "stdout",
     "text": [
      "main_index.zip has been successfully written to your S3 bucket.\n",
      "      flat_area  avg_slope  height  parapet_slope  volume  vulnerability  \\\n",
      "faid                                                                       \n",
      "0         175.0      246.0   263.0          210.0     1.0       0.551800   \n",
      "1         224.0      267.0   320.0          210.0   278.0       0.334340   \n",
      "2         140.0      292.0   168.0          210.0     1.0       0.583573   \n",
      "3         246.0       16.0    39.0          350.0   255.0       0.514824   \n",
      "4         214.0       70.0   357.0          225.0   282.0       0.419001   \n",
      "...         ...        ...     ...            ...     ...            ...   \n",
      "382        70.0      243.0   251.0          201.0     1.0       0.598929   \n",
      "383       262.0      254.0    60.0          332.0     1.0       0.540114   \n",
      "384       254.0      348.0    59.0          332.0     1.0       0.511083   \n",
      "385        44.0        1.0    65.0           56.0     1.0       0.896636   \n",
      "386        66.0       56.0   212.0          144.0     1.0       0.724127   \n",
      "\n",
      "      vul_rank                                           geometry  \n",
      "faid                                                               \n",
      "0          179  POLYGON ((257154.883 300139.913, 257154.883 30...  \n",
      "1          355  POLYGON ((257117.393 300148.142, 257117.393 30...  \n",
      "2          150  POLYGON ((257127.418 300168.259, 257128.366 30...  \n",
      "3          221  POLYGON ((257148.482 300256.956, 257146.654 30...  \n",
      "4          308  POLYGON ((257430.118 300142.656, 257431.032 30...  \n",
      "...        ...                                                ...  \n",
      "382        126  POLYGON ((258006.190 301247.251, 258006.190 30...  \n",
      "383        191  POLYGON ((258047.027 301300.033, 258048.039 30...  \n",
      "384        228  POLYGON ((258033.622 301306.687, 258033.622 30...  \n",
      "385          1  POLYGON ((258069.436 301273.946, 258057.766 30...  \n",
      "386         34  POLYGON ((258023.563 301367.038, 258025.392 30...  \n",
      "\n",
      "[387 rows x 8 columns]\n"
     ]
    }
   ],
   "metadata": {}
  },
  {
   "cell_type": "code",
   "execution_count": 30,
   "source": [
    "from sklearn.preprocessing import MinMaxScaler\n",
    "from skcriteria import Data, MIN\n",
    "from skcriteria.madm import closeness\n",
    "import geopandas as gpd\n",
    "\n",
    "wts = None\n",
    "\n",
    "mcda = full_features.copy()\n",
    "geom = mcda['geometry']\n",
    "\n",
    "mcda = mcda.set_index('faid')\n",
    "mcda = mcda[[x[0] for x in Rooftop.col_names]]\n",
    "\n",
    "orig_cols = []\n",
    "tmp_cols = []\n",
    "for cname, inv in Rooftop.col_names:\n",
    "    orig_cols.append(cname)\n",
    "    tmp_cols.append(cname+'_tmp')\n",
    "    mcda[cname+'_tmp'] = Rooftop.rescale(mcda[cname], inv)\n",
    "\n",
    "\n",
    "mcda_tmp = mcda[tmp_cols].rank(method='min')\n",
    "crit = [MIN] * len(mcda_tmp.columns)\n",
    "\n",
    "if not wts:\n",
    "    wts = [1/len(mcda_tmp.columns)] * len(mcda_tmp.columns)\n",
    "\n",
    "mca_data = Data(mcda_tmp.values, crit, anames=mcda_tmp.index, cnames=mcda_tmp.columns, weights=wts)\n",
    "\n",
    "dm = closeness.TOPSIS()\n",
    "dec = dm.decide(mca_data)\n",
    "\n",
    "mcda['vulnerability'] = dec.e_.closeness\n",
    "mcda['vul_rank'] = dec.rank_\n",
    "mcda['geometry'] = geom\n",
    "mcda = mcda.drop(columns=tmp_cols)\n",
    "mcda = gpd.GeoDataFrame(mcda) if not isinstance(mcda, gpd.GeoDataFrame) else mcda\n",
    "Rooftop.S3.write_gdf_to_s3(mcda, Rooftop.main_dir + 'main_index.zip')"
   ],
   "outputs": [
    {
     "output_type": "stream",
     "name": "stderr",
     "text": [
      "/Users/colinbrust/projects/rooftop-index/venv/lib/python3.8/site-packages/rooftop/s3utils.py:106: UserWarning: Column names longer than 10 characters will be truncated when saved to ESRI Shapefile.\n",
      "  gdf.to_file(filename=tempdir + fname, driver='ESRI Shapefile')\n"
     ]
    },
    {
     "output_type": "stream",
     "name": "stdout",
     "text": [
      "main_index.zip has been successfully written to your S3 bucket.\n"
     ]
    }
   ],
   "metadata": {}
  },
  {
   "cell_type": "markdown",
   "source": [
    "(1/7) * 2"
   ],
   "metadata": {}
  },
  {
   "cell_type": "code",
   "execution_count": 22,
   "source": [
    "wts = None"
   ],
   "outputs": [],
   "metadata": {}
  },
  {
   "cell_type": "code",
   "execution_count": null,
   "source": [],
   "outputs": [],
   "metadata": {}
  }
 ],
 "metadata": {
  "interpreter": {
   "hash": "75bf6bd5ba23910710fe98d915cc47d40ae20e89d279362d99a129b692b2b317"
  },
  "kernelspec": {
   "name": "python3",
   "display_name": "Python 3.8.3 64-bit ('venv': venv)"
  },
  "language_info": {
   "codemirror_mode": {
    "name": "ipython",
    "version": 3
   },
   "file_extension": ".py",
   "mimetype": "text/x-python",
   "name": "python",
   "nbconvert_exporter": "python",
   "pygments_lexer": "ipython3",
   "version": "3.8.3"
  }
 },
 "nbformat": 4,
 "nbformat_minor": 2
}